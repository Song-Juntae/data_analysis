{
 "cells": [
  {
   "cell_type": "code",
   "execution_count": 4,
   "metadata": {},
   "outputs": [],
   "source": [
    "import os\n",
    "\n",
    "from collections import Counter\n",
    "\n",
    "import requests\n",
    "from bs4 import BeautifulSoup as bs4\n",
    "\n",
    "import numpy as np\n",
    "import pandas as pd\n",
    "import matplotlib.pyplot as plt\n",
    "import matplotlib.font_manager as fm\n",
    "\n",
    "font_path = '/usr/share/fonts/truetype/nanum/NanumGothic.ttf'\n",
    "fm.fontManager.addfont(font_path)\n",
    "font_name = fm.FontProperties(fname=font_path).get_name()\n",
    "plt.rcParams['font.family'] = font_name\n",
    "plt.rcParams['axes.unicode_minus'] = False\n",
    "\n",
    "import seaborn as sns"
   ]
  },
  {
   "cell_type": "code",
   "execution_count": 31,
   "metadata": {},
   "outputs": [
    {
     "data": {
      "text/plain": [
       "<Response [200]>"
      ]
     },
     "execution_count": 31,
     "metadata": {},
     "output_type": "execute_result"
    }
   ],
   "source": [
    "link = 'https://entertain.naver.com/ranking/page.json?&type=five_minutes&date=20240611'\n",
    "\n",
    "headers = {\"user-agent\": \"Mozilla/5.0\"}\n",
    "res = requests.get(link, headers=headers)\n",
    "res"
   ]
  },
  {
   "cell_type": "code",
   "execution_count": 37,
   "metadata": {},
   "outputs": [
    {
     "data": {
      "text/plain": [
       "'<li>\\n\\t<div class=\"rank_num\">\\n\\t\\t<span class=\"num no1\"><em class=\"blind\">1</em></span>\\n\\t</div>\\n\\t<a href=\"/ranking/read?oid=312&aid=0000666089\" class=\"thumb_area\" onclick=\"nclk(this, \\'rnk.img\\', \\'\\', \\'\\');\">\\n\\t\\t<img src=\"https://mimgnews.pstatic.net/image/origin/312/2024/06/11/666089.jpg?type=nf148_90_q90\" width=\"148\" height=\"90\" onerror=\"imageError(this, 1);\">\\n\\t\\t<span class=\"thumb_border\"></span>\\n\\t</a>\\n\\t<div class=\"tit_area\">\\n\\t\\t<a href=\"/ranking/read?oid=312&aid=0000666089\" class=\"tit\" onclick=\"nclk(this, \\'rnk.art\\', \\'\\', \\'\\');\">[종합]고준희 \"버닝썬 여배우 나 아니다…YG 방치에 홀로 변호사 선임\"(\\'아침먹고가\\')</a>\\n\\t\\t<p class=\"summary\">\\n\\t\\t\\t\\t\\'아침먹고 가\\' 고준희가 버닝썬과의 관계를 명확하게 밝혔다. 11일 유튜브 \\'아침먹고 가\\'에서는 배우 고준희가 6년 만에 버닝썬 루머에 관해 입…\\n\\t\\t\\t\\t\\n\\t\\t</p>\\n\\t</div>\\n</li>\\n<li>\\n\\t<div class=\"rank_num\">\\n\\t\\t<span class=\"num no2\"><em class=\"blind\">2</em></span>\\n\\t</div>\\n\\t<a href=\"/ranking/read?oid=109&aid=0005095369\" class=\"thumb_area\" onclick=\"nclk(this, \\'rnk.img\\', \\'\\', \\'\\');\">\\n\\t\\t<img src=\"https://mimgnews.pstatic.net/image/origin/109/2024/06/11/5095369.jpg?type=nf148_90_q90\" width=\"148\" height=\"90\" onerror=\"imageError(this, 1);\">\\n\\t\\t<span class=\"thumb_border\"></span>\\n\\t</a>\\n\\t<div class=\"tit_area\">\\n\\t\\t<a href=\"/ranking/read?oid=109&aid=0005095369\" class=\"tit\" onclick=\"nclk(this, \\'rnk.art\\', \\'\\', \\'\\');\">\\'10월 결혼\\' 박위♥송지은, 드레스 투어 공개 \"완벽한데 덜 파인 걸로··\" (\\'위라클\\')</a>\\n\\t\\t<p class=\"summary\">\\n\\t\\t\\t\\t\\'위라클\\' 유튜버 박위와 가수 송지은이 드레스 투어를 기록했다. 11일 유튜브 채널 \\'위라클\\'에는 \\'지은이야... 그거 너무 파인 거 아니야?\\'…\\n\\t\\t\\t\\t\\n\\t\\t</p>\\n\\t</div>\\n</li>\\n<li>\\n\\t<div class=\"rank_num\">\\n\\t\\t<span class=\"num no3\"><em class=\"blind\">3</em></span>\\n\\t</div>\\n\\t<a href=\"/ranking/read?oid=311&aid=0001735957\" class=\"thumb_area\" onclick=\"nclk(this, \\'rnk.img\\', \\'\\', \\'\\');\">\\n\\t\\t<img src=\"https://mimgnews.pstatic.net/image/origin/311/2024/06/11/1735957.jpg?type=nf148_90_q90\" width=\"148\" height=\"90\" onerror=\"imageError(this, 1);\">\\n\\t\\t<span class=\"thumb_border\"></span>\\n\\t</a>\\n\\t<div class=\"tit_area\">\\n\\t\\t<a href=\"/ranking/read?oid=311&aid=0001735957\" class=\"tit\" onclick=\"nclk(this, \\'rnk.art\\', \\'\\', \\'\\');\">\\'원조 바비\\' 한채영, 소유진·전지현과 3대 여신 \"대학 시절 친해\" (돌싱포맨)</a>\\n\\t\\t<p class=\"summary\">\\n\\t\\t\\t\\t배우 한채영이 소유진, 전지현과의 친분을 고백했다. 11일 방송된 SBS \\'신발 벗고 돌싱포맨\\'에서는 한채영, 이병준, 임우일이 출연해 입담을 …\\n\\t\\t\\t\\t\\n\\t\\t</p>\\n\\t</div>\\n</li>\\n<li>\\n\\t<div class=\"rank_num\">\\n\\t\\t<span class=\"num no4\"><em class=\"blind\">4</em></span>\\n\\t</div>\\n\\t<a href=\"/ranking/read?oid=076&aid=0004155302\" class=\"thumb_area\" onclick=\"nclk(this, \\'rnk.img\\', \\'\\', \\'\\');\">\\n\\t\\t<img src=\"https://mimgnews.pstatic.net/image/origin/076/2024/06/11/4155302.jpg?type=nf148_90_q90\" width=\"148\" height=\"90\" onerror=\"imageError(this, 1);\">\\n\\t\\t<span class=\"thumb_border\"></span>\\n\\t</a>\\n\\t<div class=\"tit_area\">\\n\\t\\t<a href=\"/ranking/read?oid=076&aid=0004155302\" class=\"tit\" onclick=\"nclk(this, \\'rnk.art\\', \\'\\', \\'\\');\">고현정, 민낯이 더 예쁜 여배우라니…세상 밖으로 나와 \\'찐웃음\\'</a>\\n\\t\\t<p class=\"summary\">\\n\\t\\t\\t\\t배우 고현정이 제주도 여행 일상을 공개했다. 고현정은 11일 자신의 계정을 통해 제주도에 간 모습을 공개했다. 사진 속 흰 티셔츠를 입은 고현정…\\n\\t\\t\\t\\t\\n\\t\\t</p>\\n\\t</div>\\n</li>\\n<li>\\n\\t<div class=\"rank_num\">\\n\\t\\t<span class=\"num no5\"><em class=\"blind\">5</em></span>\\n\\t</div>\\n\\t<a href=\"/ranking/read?oid=109&aid=0005095383\" class=\"thumb_area\" onclick=\"nclk(this, \\'rnk.img\\', \\'\\', \\'\\');\">\\n\\t\\t<img src=\"https://mimgnews.pstatic.net/image/origin/109/2024/06/11/5095383.jpg?type=nf148_90_q90\" width=\"148\" height=\"90\" onerror=\"imageError(this, 1);\">\\n\\t\\t<span class=\"thumb_border\"></span>\\n\\t</a>\\n\\t<div class=\"tit_area\">\\n\\t\\t<a href=\"/ranking/read?oid=109&aid=0005095383\" class=\"tit\" onclick=\"nclk(this, \\'rnk.art\\', \\'\\', \\'\\');\">[단독] 변우석 못가고·김혜윤 간다..\\'선업튀\\' 포상휴가 ♥솔선커플 불발(종합)</a>\\n\\t\\t<p class=\"summary\">\\n\\t\\t\\t\\t배우 변우석은 \\'선업튀\\' 포상휴가에 불참하고, 김혜윤은 참석하면서 솔선커플의 재회가 불발됐다. 11일 오후 OSEN 취재 결과, 이달 중순 이후…\\n\\t\\t\\t\\t\\n\\t\\t</p>\\n\\t</div>\\n</li>\\n<li>\\n\\t<div class=\"rank_num\">\\n\\t\\t<span class=\"num no6\"><em class=\"blind\">6</em></span>\\n\\t</div>\\n\\t<a href=\"/ranking/read?oid=213&aid=0001297736\" class=\"thumb_area\" onclick=\"nclk(this, \\'rnk.img\\', \\'\\', \\'\\');\">\\n\\t\\t<img src=\"https://mimgnews.pstatic.net/image/origin/213/2024/06/11/1297736.jpg?type=nf148_90_q90\" width=\"148\" height=\"90\" onerror=\"imageError(this, 1);\">\\n\\t\\t<span class=\"thumb_border\"></span>\\n\\t</a>\\n\\t<div class=\"tit_area\">\\n\\t\\t<a href=\"/ranking/read?oid=213&aid=0001297736\" class=\"tit\" onclick=\"nclk(this, \\'rnk.art\\', \\'\\', \\'\\');\">이승현 \"이혼한 부모님, 손주 보려고 만나...일부러 같이 자게 해\"</a>\\n\\t\\t<p class=\"summary\">\\n\\t\\t\\t\\t한국계 미국인 배우 이승현이 방송에서 이혼한 부모를 한방에서 자게 했다고 밝혀 중국 현지 검색어 1위에 오르는 등 논란을 빚었다. 10일(현지 …\\n\\t\\t\\t\\t\\n\\t\\t</p>\\n\\t</div>\\n</li>\\n<li>\\n\\t<div class=\"rank_num\">\\n\\t\\t<span class=\"num no7\"><em class=\"blind\">7</em></span>\\n\\t</div>\\n\\t<a href=\"/ranking/read?oid=311&aid=0001735857\" class=\"thumb_area\" onclick=\"nclk(this, \\'rnk.img\\', \\'\\', \\'\\');\">\\n\\t\\t<img src=\"https://mimgnews.pstatic.net/image/origin/311/2024/06/11/1735857.jpg?type=nf148_90_q90\" width=\"148\" height=\"90\" onerror=\"imageError(this, 1);\">\\n\\t\\t<span class=\"thumb_border\"></span>\\n\\t</a>\\n\\t<div class=\"tit_area\">\\n\\t\\t<a href=\"/ranking/read?oid=311&aid=0001735857\" class=\"tit\" onclick=\"nclk(this, \\'rnk.art\\', \\'\\', \\'\\');\">온라인 달군 \\'송혜교 공항 패션\\' 화제…\\'꾸안꾸\\'의 정석 [엑\\'s 이슈]</a>\\n\\t\\t<p class=\"summary\">\\n\\t\\t\\t\\t배우 송혜교가 \\'꾸안꾸\\' 공항 패션으로 누리꾼들의 관심을 집중시켰다. 송혜교가 지난 10일 선보인 공항 패션이 온라인상에서 많은 화제를 불러모으…\\n\\t\\t\\t\\t\\n\\t\\t</p>\\n\\t</div>\\n</li>\\n<li>\\n\\t<div class=\"rank_num\">\\n\\t\\t<span class=\"num no8\"><em class=\"blind\">8</em></span>\\n\\t</div>\\n\\t<a href=\"/ranking/read?oid=076&aid=0004155394\" class=\"thumb_area\" onclick=\"nclk(this, \\'rnk.img\\', \\'\\', \\'\\');\">\\n\\t\\t<img src=\"https://mimgnews.pstatic.net/image/origin/076/2024/06/11/4155394.jpg?type=nf148_90_q90\" width=\"148\" height=\"90\" onerror=\"imageError(this, 1);\">\\n\\t\\t<span class=\"thumb_border\"></span>\\n\\t</a>\\n\\t<div class=\"tit_area\">\\n\\t\\t<a href=\"/ranking/read?oid=076&aid=0004155394\" class=\"tit\" onclick=\"nclk(this, \\'rnk.art\\', \\'\\', \\'\\');\">\\'빈지노♥\\' 미초바, 배만 나온 날씬 임산부의 \\'비키니 자태\\'..\"물로 중력과 싸우는 중\"</a>\\n\\t\\t<p class=\"summary\">\\n\\t\\t\\t\\t빈지노의 아내 스테파니 미초바가 임신 중에도 날씬한 비키니 몸매를 뽐냈다. 스테파니 미초바는 11일 \"물로 중력과 싸우는 중\"이라는 글과 함께 …\\n\\t\\t\\t\\t\\n\\t\\t</p>\\n\\t</div>\\n</li>\\n<li>\\n\\t<div class=\"rank_num\">\\n\\t\\t<span class=\"num no9\"><em class=\"blind\">9</em></span>\\n\\t</div>\\n\\t<a href=\"/ranking/read?oid=312&aid=0000666035\" class=\"thumb_area\" onclick=\"nclk(this, \\'rnk.img\\', \\'\\', \\'\\');\">\\n\\t\\t<img src=\"https://mimgnews.pstatic.net/image/origin/312/2024/06/11/666035.jpg?type=nf148_90_q90\" width=\"148\" height=\"90\" onerror=\"imageError(this, 1);\">\\n\\t\\t<span class=\"thumb_border\"></span>\\n\\t</a>\\n\\t<div class=\"tit_area\">\\n\\t\\t<a href=\"/ranking/read?oid=312&aid=0000666035\" class=\"tit\" onclick=\"nclk(this, \\'rnk.art\\', \\'\\', \\'\\');\">동성애 아니랬는데…\"남자 3명의 삼각관계, 얽히고 설켜\" 윤찬영·봉재현의 애틋 관계성 \\'조폭고\\' [TEN인터뷰]</a>\\n\\t\\t<p class=\"summary\">\\n\\t\\t\\t\\t\"이헌(윤찬영 분)과 세경(봉재현 분), 재민(주윤찬 분)까지 얽히고설킨 삼각관계 같은 게 있어요. 그들의 관계성이 어떻게 정리될지 지켜봐주세요…\\n\\t\\t\\t\\t\\n\\t\\t</p>\\n\\t</div>\\n</li>\\n<li>\\n\\t<div class=\"rank_num\">\\n\\t\\t<span class=\"num no10\"><em class=\"blind\">10</em></span>\\n\\t</div>\\n\\t<a href=\"/ranking/read?oid=109&aid=0005095307\" class=\"thumb_area\" onclick=\"nclk(this, \\'rnk.img\\', \\'\\', \\'\\');\">\\n\\t\\t<img src=\"https://mimgnews.pstatic.net/image/origin/109/2024/06/11/5095307.jpg?type=nf148_90_q90\" width=\"148\" height=\"90\" onerror=\"imageError(this, 1);\">\\n\\t\\t<span class=\"thumb_border\"></span>\\n\\t</a>\\n\\t<div class=\"tit_area\">\\n\\t\\t<a href=\"/ranking/read?oid=109&aid=0005095307\" class=\"tit\" onclick=\"nclk(this, \\'rnk.art\\', \\'\\', \\'\\');\">“링 귀걸이 다시 유행하나요?”…송혜교, 따라하고싶은 사복 패션 [★SHOT!]</a>\\n\\t\\t<p class=\"summary\">\\n\\t\\t\\t\\t송혜교가 근황을 공개했다. 11일 오후 배우 송혜교는 사진을 게재했다. 공개된 사진은 캐쥬얼한 패션을 입은 송혜교가 벤치에 앉아있는 모습. 송혜…\\n\\t\\t\\t\\t\\n\\t\\t</p>\\n\\t</div>\\n</li>\\n<li>\\n\\t<div class=\"rank_num\">\\n\\t\\t<span class=\"num no11\"><em class=\"blind\">11</em></span>\\n\\t</div>\\n\\t<a href=\"/ranking/read?oid=109&aid=0005095461\" class=\"thumb_area\" onclick=\"nclk(this, \\'rnk.img\\', \\'\\', \\'\\');\">\\n\\t\\t<img src=\"https://mimgnews.pstatic.net/image/origin/109/2024/06/11/5095461.jpg?type=nf148_90_q90\" width=\"148\" height=\"90\" onerror=\"imageError(this, 1);\">\\n\\t\\t<span class=\"thumb_border\"></span>\\n\\t</a>\\n\\t<div class=\"tit_area\">\\n\\t\\t<a href=\"/ranking/read?oid=109&aid=0005095461\" class=\"tit\" onclick=\"nclk(this, \\'rnk.art\\', \\'\\', \\'\\');\">최지우 작은 아버지=알고보니 유명 개그맨 이 사람? \\'폭소\\' 만발</a>\\n\\t\\t<p class=\"summary\">\\n\\t\\t\\t\\t\\'돌싱포맨\\'에서 임우일이 최지우와 투샷을 공개했다. 11일 방송된 SBS 예능 \\'신발벗고 돌싱포맨\\'이 전파를 탔다. 이날 배우 이병준과 한채영,…\\n\\t\\t\\t\\t\\n\\t\\t</p>\\n\\t</div>\\n</li>\\n<li>\\n\\t<div class=\"rank_num\">\\n\\t\\t<span class=\"num no12\"><em class=\"blind\">12</em></span>\\n\\t</div>\\n\\t<a href=\"/ranking/read?oid=396&aid=0000679237\" class=\"thumb_area\" onclick=\"nclk(this, \\'rnk.img\\', \\'\\', \\'\\');\">\\n\\t\\t<img src=\"https://mimgnews.pstatic.net/image/origin/396/2024/06/11/679237.jpg?type=nf148_90_q90\" width=\"148\" height=\"90\" onerror=\"imageError(this, 1);\">\\n\\t\\t<span class=\"thumb_border\"></span>\\n\\t</a>\\n\\t<div class=\"tit_area\">\\n\\t\\t<a href=\"/ranking/read?oid=396&aid=0000679237\" class=\"tit\" onclick=\"nclk(this, \\'rnk.art\\', \\'\\', \\'\\');\">한예슬, 늘씬한 허리 라인…과감한 몸매 자랑</a>\\n\\t\\t<p class=\"summary\">\\n\\t\\t\\t\\t배우 한예슬이 몸매를 뽐냈다. 11일 한예슬은 자신의 SNS를 통해 “SUMMER VIBE”라는 글과 함께 여러 장의 사진을 게재했다. 공개된 …\\n\\t\\t\\t\\t\\n\\t\\t</p>\\n\\t</div>\\n</li>\\n<li>\\n\\t<div class=\"rank_num\">\\n\\t\\t<span class=\"num no13\"><em class=\"blind\">13</em></span>\\n\\t</div>\\n\\t<a href=\"/ranking/read?oid=415&aid=0000029116\" class=\"thumb_area\" onclick=\"nclk(this, \\'rnk.img\\', \\'\\', \\'\\');\">\\n\\t\\t<img src=\"https://mimgnews.pstatic.net/image/origin/415/2024/06/11/29116.jpg?type=nf148_90_q90\" width=\"148\" height=\"90\" onerror=\"imageError(this, 1);\">\\n\\t\\t<span class=\"thumb_border\"></span>\\n\\t</a>\\n\\t<div class=\"tit_area\">\\n\\t\\t<a href=\"/ranking/read?oid=415&aid=0000029116\" class=\"tit\" onclick=\"nclk(this, \\'rnk.art\\', \\'\\', \\'\\');\">♥윤남기가 계속 사줬는데… 이다은, 또 옷 사는 이유 \"임신해서 뚱뚱해보여\"</a>\\n\\t\\t<p class=\"summary\">\\n\\t\\t\\t\\t\\'돌싱글즈2\\' 출신 이다은이 임부복을 사고 또 사는 이유로 \"임신해서 뚱뚱해보인다\"고 푸념했다. 이다은 윤남기는 지난 10일 부부 채널에 임부복…\\n\\t\\t\\t\\t\\n\\t\\t</p>\\n\\t</div>\\n</li>\\n<li>\\n\\t<div class=\"rank_num\">\\n\\t\\t<span class=\"num no14\"><em class=\"blind\">14</em></span>\\n\\t</div>\\n\\t<a href=\"/ranking/read?oid=076&aid=0004155428\" class=\"thumb_area\" onclick=\"nclk(this, \\'rnk.img\\', \\'\\', \\'\\');\">\\n\\t\\t<img src=\"https://mimgnews.pstatic.net/image/origin/076/2024/06/11/4155428.jpg?type=nf148_90_q90\" width=\"148\" height=\"90\" onerror=\"imageError(this, 1);\">\\n\\t\\t<span class=\"thumb_border\"></span>\\n\\t</a>\\n\\t<div class=\"tit_area\">\\n\\t\\t<a href=\"/ranking/read?oid=076&aid=0004155428\" class=\"tit\" onclick=\"nclk(this, \\'rnk.art\\', \\'\\', \\'\\');\">\\'선업튀\\' 감독 \"김혜윤 미쳤다..2화X13화 동시 촬영, 15살 어려도 존경\"[SC이슈]</a>\\n\\t\\t<p class=\"summary\">\\n\\t\\t\\t\\t글로벌 신드롬을 일으킨 tvN \\'선재 업고 튀어\\'(이하 \\'선업튀)의 김태엽 감독이 언론인 특강에서 여주인공 김혜윤에 대한 존경심을 표했다. 11…\\n\\t\\t\\t\\t\\n\\t\\t</p>\\n\\t</div>\\n</li>\\n<li>\\n\\t<div class=\"rank_num\">\\n\\t\\t<span class=\"num no15\"><em class=\"blind\">15</em></span>\\n\\t</div>\\n\\t<a href=\"/ranking/read?oid=312&aid=0000666093\" class=\"thumb_area\" onclick=\"nclk(this, \\'rnk.img\\', \\'\\', \\'\\');\">\\n\\t\\t<img src=\"https://mimgnews.pstatic.net/image/origin/312/2024/06/11/666093.jpg?type=nf148_90_q90\" width=\"148\" height=\"90\" onerror=\"imageError(this, 1);\">\\n\\t\\t<span class=\"thumb_border\"></span>\\n\\t</a>\\n\\t<div class=\"tit_area\">\\n\\t\\t<a href=\"/ranking/read?oid=312&aid=0000666093\" class=\"tit\" onclick=\"nclk(this, \\'rnk.art\\', \\'\\', \\'\\');\">김기리, 아내 문지인 사진만 가득 \"나조차도 내가 부러워\"…팔불출 면모</a>\\n\\t\\t<p class=\"summary\">\\n\\t\\t\\t\\t배우 김기리가 아내 문지인을 향한 애정을 드러냈다. 10일 김기리는 \"나조차도 내가 부러워\"라는 글과 함께 여러 장의 사진을 올렸다. 이어 \\'하…\\n\\t\\t\\t\\t\\n\\t\\t</p>\\n\\t</div>\\n</li>\\n<li>\\n\\t<div class=\"rank_num\">\\n\\t\\t<span class=\"num no16\"><em class=\"blind\">16</em></span>\\n\\t</div>\\n\\t<a href=\"/ranking/read?oid=468&aid=0001067737\" class=\"thumb_area\" onclick=\"nclk(this, \\'rnk.img\\', \\'\\', \\'\\');\">\\n\\t\\t<img src=\"https://mimgnews.pstatic.net/image/origin/468/2024/06/11/1067737.jpg?type=nf148_90_q90\" width=\"148\" height=\"90\" onerror=\"imageError(this, 1);\">\\n\\t\\t<span class=\"thumb_border\"></span>\\n\\t</a>\\n\\t<div class=\"tit_area\">\\n\\t\\t<a href=\"/ranking/read?oid=468&aid=0001067737\" class=\"tit\" onclick=\"nclk(this, \\'rnk.art\\', \\'\\', \\'\\');\">손담비♥이규혁, 사랑하니까 닮아가네..미소가 닮은꼴 부부</a>\\n\\t\\t<p class=\"summary\">\\n\\t\\t\\t\\t출처| 손담비 채널 손담비, 이규혁이 사랑 넘치는 부부 케미를 보여줬다. 11일 손담비는 “Tuesday mood”라는 글과 함께 몇 장의 사진…\\n\\t\\t\\t\\t\\n\\t\\t</p>\\n\\t</div>\\n</li>\\n<li>\\n\\t<div class=\"rank_num\">\\n\\t\\t<span class=\"num no17\"><em class=\"blind\">17</em></span>\\n\\t</div>\\n\\t<a href=\"/ranking/read?oid=410&aid=0001004527\" class=\"thumb_area\" onclick=\"nclk(this, \\'rnk.img\\', \\'\\', \\'\\');\">\\n\\t\\t<img src=\"https://mimgnews.pstatic.net/image/origin/410/2024/06/11/1004527.jpg?type=nf148_90_q90\" width=\"148\" height=\"90\" onerror=\"imageError(this, 1);\">\\n\\t\\t<span class=\"thumb_border\"></span>\\n\\t</a>\\n\\t<div class=\"tit_area\">\\n\\t\\t<a href=\"/ranking/read?oid=410&aid=0001004527\" class=\"tit\" onclick=\"nclk(this, \\'rnk.art\\', \\'\\', \\'\\');\">안유진, 흰색 롱 스커트 입고 화려한 변신!…“‘나도 춤 잘 추고 싶다’ 엄마 앞에서”</a>\\n\\t\\t<p class=\"summary\">\\n\\t\\t\\t\\t안유진이 엄마와 함께 흰색 롱 스커트를 입고 화려한 변신을 했다. 그룹 아이브 멤버 안유진이 11일 자신의 개인 채널을 통해 엄마와 함께한 나들…\\n\\t\\t\\t\\t\\n\\t\\t</p>\\n\\t</div>\\n</li>\\n<li>\\n\\t<div class=\"rank_num\">\\n\\t\\t<span class=\"num no18\"><em class=\"blind\">18</em></span>\\n\\t</div>\\n\\t<a href=\"/ranking/read?oid=396&aid=0000679199\" class=\"thumb_area\" onclick=\"nclk(this, \\'rnk.img\\', \\'\\', \\'\\');\">\\n\\t\\t<img src=\"https://mimgnews.pstatic.net/image/origin/396/2024/06/11/679199.jpg?type=nf148_90_q90\" width=\"148\" height=\"90\" onerror=\"imageError(this, 1);\">\\n\\t\\t<span class=\"thumb_border\"></span>\\n\\t</a>\\n\\t<div class=\"tit_area\">\\n\\t\\t<a href=\"/ranking/read?oid=396&aid=0000679199\" class=\"tit\" onclick=\"nclk(this, \\'rnk.art\\', \\'\\', \\'\\');\">소녀시대 윤아, 눈부신 미소 [스타★샷]</a>\\n\\t\\t<p class=\"summary\">\\n\\t\\t\\t\\t그룹 소녀시대 겸 배우 윤아가 눈부신 미모를 뽐냈다. 11일 윤아는 자신의 SNS를 통해 해 이모티콘과 함께 여러 장의 사진을 게재했다. 공개된…\\n\\t\\t\\t\\t\\n\\t\\t</p>\\n\\t</div>\\n</li>\\n<li>\\n\\t<div class=\"rank_num\">\\n\\t\\t<span class=\"num no19\"><em class=\"blind\">19</em></span>\\n\\t</div>\\n\\t<a href=\"/ranking/read?oid=609&aid=0000863519\" class=\"thumb_area\" onclick=\"nclk(this, \\'rnk.img\\', \\'\\', \\'\\');\">\\n\\t\\t<img src=\"https://mimgnews.pstatic.net/image/origin/609/2024/06/11/863519.jpg?type=nf148_90_q90\" width=\"148\" height=\"90\" onerror=\"imageError(this, 1);\">\\n\\t\\t<span class=\"thumb_border\"></span>\\n\\t</a>\\n\\t<div class=\"tit_area\">\\n\\t\\t<a href=\"/ranking/read?oid=609&aid=0000863519\" class=\"tit\" onclick=\"nclk(this, \\'rnk.art\\', \\'\\', \\'\\');\">최양락, 알고보니 성형 중독자? 쌍꺼풀에 리프팅까지 “32바늘 꿰매” (살롱드립2)</a>\\n\\t\\t<p class=\"summary\">\\n\\t\\t\\t\\t개그맨 최양락이 리프팅 시술을 고백했다. 6월 11일 공개된 웹예능 \\'살롱드립2\\'에는 결혼 36년 차 최양락, 팽현숙 부부가 게스트로 출연했다.…\\n\\t\\t\\t\\t\\n\\t\\t</p>\\n\\t</div>\\n</li>\\n<li>\\n\\t<div class=\"rank_num\">\\n\\t\\t<span class=\"num no20\"><em class=\"blind\">20</em></span>\\n\\t</div>\\n\\t<a href=\"/ranking/read?oid=382&aid=0001131254\" class=\"thumb_area\" onclick=\"nclk(this, \\'rnk.img\\', \\'\\', \\'\\');\">\\n\\t\\t<img src=\"https://mimgnews.pstatic.net/image/origin/382/2024/06/11/1131254.jpg?type=nf148_90_q90\" width=\"148\" height=\"90\" onerror=\"imageError(this, 1);\">\\n\\t\\t<span class=\"thumb_border\"></span>\\n\\t</a>\\n\\t<div class=\"tit_area\">\\n\\t\\t<a href=\"/ranking/read?oid=382&aid=0001131254\" class=\"tit\" onclick=\"nclk(this, \\'rnk.art\\', \\'\\', \\'\\');\">고준희 눈물 “버닝썬 루머→커리어 박살…母 이석증 와” (아침먹고가)[종합]</a>\\n\\t\\t<p class=\"summary\">\\n\\t\\t\\t\\t배우 고준희가 ‘버닝썬’ 루머를 언급했다. 11일 유튜브 채널 ‘스튜디오 수제’에는 ‘최초공개!! 6년 만에 꺼낸 버닝썬 진실.. 고준희, 그동…\\n\\t\\t\\t\\t\\n\\t\\t</p>\\n\\t</div>\\n</li>\\n<li>\\n\\t<div class=\"rank_num\">\\n\\t\\t<span class=\"num no21\"><em class=\"blind\">21</em></span>\\n\\t</div>\\n\\t<a href=\"/ranking/read?oid=108&aid=0003242053\" class=\"thumb_area\" onclick=\"nclk(this, \\'rnk.img\\', \\'\\', \\'\\');\">\\n\\t\\t<img src=\"https://mimgnews.pstatic.net/image/origin/108/2024/06/11/3242053.jpg?type=nf148_90_q90\" width=\"148\" height=\"90\" onerror=\"imageError(this, 1);\">\\n\\t\\t<span class=\"thumb_border\"></span>\\n\\t</a>\\n\\t<div class=\"tit_area\">\\n\\t\\t<a href=\"/ranking/read?oid=108&aid=0003242053\" class=\"tit\" onclick=\"nclk(this, \\'rnk.art\\', \\'\\', \\'\\');\">김히어라, 학폭 종결 후 美 진출 앞둔 심경? \"용기 생기는..\"[스타이슈]</a>\\n\\t\\t<p class=\"summary\">\\n\\t\\t\\t\\t배우 김히어라가 학교 폭력 논란을 마무리하고 근황을 전했다. 김히어라는 11일 자신의 인스타그램 스토리를 통해 \"용기가 생기는 도시락\"이란 문구…\\n\\t\\t\\t\\t\\n\\t\\t</p>\\n\\t</div>\\n</li>\\n<li>\\n\\t<div class=\"rank_num\">\\n\\t\\t<span class=\"num no22\"><em class=\"blind\">22</em></span>\\n\\t</div>\\n\\t<a href=\"/ranking/read?oid=241&aid=0003356620\" class=\"thumb_area\" onclick=\"nclk(this, \\'rnk.img\\', \\'\\', \\'\\');\">\\n\\t\\t<img src=\"https://mimgnews.pstatic.net/image/origin/241/2024/06/11/3356620.jpg?type=nf148_90_q90\" width=\"148\" height=\"90\" onerror=\"imageError(this, 1);\">\\n\\t\\t<span class=\"thumb_border\"></span>\\n\\t</a>\\n\\t<div class=\"tit_area\">\\n\\t\\t<a href=\"/ranking/read?oid=241&aid=0003356620\" class=\"tit\" onclick=\"nclk(this, \\'rnk.art\\', \\'\\', \\'\\');\">“자신감 업” 장영란, 눈 성형 6번+다이어트로 확 달라진 분위기</a>\\n\\t\\t<p class=\"summary\">\\n\\t\\t\\t\\t방송인 장영란이 물 오른 미모를 자랑했다. 장영란은 11일 자신의 SNS에 “다시 운동 시작. 체력이 점점 떨어져서 안되겠더라고요.”라는 글과 …\\n\\t\\t\\t\\t\\n\\t\\t</p>\\n\\t</div>\\n</li>\\n<li>\\n\\t<div class=\"rank_num\">\\n\\t\\t<span class=\"num no23\"><em class=\"blind\">23</em></span>\\n\\t</div>\\n\\t<a href=\"/ranking/read?oid=003&aid=0012599658\" class=\"thumb_area\" onclick=\"nclk(this, \\'rnk.img\\', \\'\\', \\'\\');\">\\n\\t\\t<img src=\"https://mimgnews.pstatic.net/image/origin/003/2024/06/11/12599658.jpg?type=nf148_90_q90\" width=\"148\" height=\"90\" onerror=\"imageError(this, 1);\">\\n\\t\\t<span class=\"thumb_border\"></span>\\n\\t</a>\\n\\t<div class=\"tit_area\">\\n\\t\\t<a href=\"/ranking/read?oid=003&aid=0012599658\" class=\"tit\" onclick=\"nclk(this, \\'rnk.art\\', \\'\\', \\'\\');\">신수지, 필리핀 세부서 파격 비키니…아찔한 뒤태</a>\\n\\t\\t<p class=\"summary\">\\n\\t\\t\\t\\t전 리듬체조 선수이자 방송인 신수지(33)가 건강미 넘치는 몸매를 뽐냈다. 신수지는 11일 자신의 소셜미디어에 \"세부\"라고 적고 여러 장의 사진…\\n\\t\\t\\t\\t\\n\\t\\t</p>\\n\\t</div>\\n</li>\\n<li>\\n\\t<div class=\"rank_num\">\\n\\t\\t<span class=\"num no24\"><em class=\"blind\">24</em></span>\\n\\t</div>\\n\\t<a href=\"/ranking/read?oid=108&aid=0003242087\" class=\"thumb_area\" onclick=\"nclk(this, \\'rnk.img\\', \\'\\', \\'\\');\">\\n\\t\\t<img src=\"https://mimgnews.pstatic.net/image/origin/108/2024/06/11/3242087.jpg?type=nf148_90_q90\" width=\"148\" height=\"90\" onerror=\"imageError(this, 1);\">\\n\\t\\t<span class=\"thumb_border\"></span>\\n\\t</a>\\n\\t<div class=\"tit_area\">\\n\\t\\t<a href=\"/ranking/read?oid=108&aid=0003242087\" class=\"tit\" onclick=\"nclk(this, \\'rnk.art\\', \\'\\', \\'\\');\">[단독]강형욱 없고 이경규·박세리만..\\'개훌륭\\' 5주 만에 방송 재개 [종합]</a>\\n\\t\\t<p class=\"summary\">\\n\\t\\t\\t\\t반려동물 훈련사 강형욱을 둘러싼 논란으로 결방을 이어왔던 \\'개는 훌륭하다\\'가 5주 만에 방송을 재개한다. 11일 스타뉴스 취재 결과, KBS 2…\\n\\t\\t\\t\\t\\n\\t\\t</p>\\n\\t</div>\\n</li>\\n<li>\\n\\t<div class=\"rank_num\">\\n\\t\\t<span class=\"num no25\"><em class=\"blind\">25</em></span>\\n\\t</div>\\n\\t<a href=\"/ranking/read?oid=468&aid=0001067933\" class=\"thumb_area\" onclick=\"nclk(this, \\'rnk.img\\', \\'\\', \\'\\');\">\\n\\t\\t<img src=\"https://mimgnews.pstatic.net/image/origin/468/2024/06/11/1067933.jpg?type=nf148_90_q90\" width=\"148\" height=\"90\" onerror=\"imageError(this, 1);\">\\n\\t\\t<span class=\"thumb_border\"></span>\\n\\t</a>\\n\\t<div class=\"tit_area\">\\n\\t\\t<a href=\"/ranking/read?oid=468&aid=0001067933\" class=\"tit\" onclick=\"nclk(this, \\'rnk.art\\', \\'\\', \\'\\');\">변우석, 빌보드 또 뚫었다! 글로벌 200 차트 167위 등극, 2주 연속 진입 32계단 껑충</a>\\n\\t\\t<p class=\"summary\">\\n\\t\\t\\t\\ttvN ‘선재 업고 튀어’ 사진 | tvN 배우 변우석을 아시아 톱스타로 만든 tvN 드라마 ‘선재 업고 튀어’(이하 ‘선업튀’) 속 밴드 이클…\\n\\t\\t\\t\\t\\n\\t\\t</p>\\n\\t</div>\\n</li>\\n<li>\\n\\t<div class=\"rank_num\">\\n\\t\\t<span class=\"num no26\"><em class=\"blind\">26</em></span>\\n\\t</div>\\n\\t<a href=\"/ranking/read?oid=396&aid=0000679245\" class=\"thumb_area\" onclick=\"nclk(this, \\'rnk.img\\', \\'\\', \\'\\');\">\\n\\t\\t<img src=\"https://mimgnews.pstatic.net/image/origin/396/2024/06/11/679245.jpg?type=nf148_90_q90\" width=\"148\" height=\"90\" onerror=\"imageError(this, 1);\">\\n\\t\\t<span class=\"thumb_border\"></span>\\n\\t</a>\\n\\t<div class=\"tit_area\">\\n\\t\\t<a href=\"/ranking/read?oid=396&aid=0000679245\" class=\"tit\" onclick=\"nclk(this, \\'rnk.art\\', \\'\\', \\'\\');\">“엄마가 찍어줘”…안유진, 사랑스러운 ‘댕댕이 모먼트’</a>\\n\\t\\t<p class=\"summary\">\\n\\t\\t\\t\\t그룹 아이브 안유진이 사랑스러움을 뽐냈다. 11일 안유진은 자신의 SNS를 통해 “엄마가 찍어준 나”라는 글과 함께 여러 장의 사진을 게재했다.…\\n\\t\\t\\t\\t\\n\\t\\t</p>\\n\\t</div>\\n</li>\\n<li>\\n\\t<div class=\"rank_num\">\\n\\t\\t<span class=\"num no27\"><em class=\"blind\">27</em></span>\\n\\t</div>\\n\\t<a href=\"/ranking/read?oid=311&aid=0001736029\" class=\"thumb_area\" onclick=\"nclk(this, \\'rnk.img\\', \\'\\', \\'\\');\">\\n\\t\\t<img src=\"https://mimgnews.pstatic.net/image/origin/311/2024/06/11/1736029.jpg?type=nf148_90_q90\" width=\"148\" height=\"90\" onerror=\"imageError(this, 1);\">\\n\\t\\t<span class=\"thumb_border\"></span>\\n\\t</a>\\n\\t<div class=\"tit_area\">\\n\\t\\t<a href=\"/ranking/read?oid=311&aid=0001736029\" class=\"tit\" onclick=\"nclk(this, \\'rnk.art\\', \\'\\', \\'\\');\">\\'나경은♥\\' 유재석 \"딸 나은 결혼? 생각만해도 서운해\"(틈만나면)[종합]</a>\\n\\t\\t<p class=\"summary\">\\n\\t\\t\\t\\t\\'틈만나면\\'에서 유재석이 딸 나은 양의 결혼을 생각하는 것만으로도 서운함을 느꼈다. 11일 방송된 SBS 예능 프로그램 \\'틈만나면\\' 시즌1 마지…\\n\\t\\t\\t\\t\\n\\t\\t</p>\\n\\t</div>\\n</li>\\n<li>\\n\\t<div class=\"rank_num\">\\n\\t\\t<span class=\"num no28\"><em class=\"blind\">28</em></span>\\n\\t</div>\\n\\t<a href=\"/ranking/read?oid=018&aid=0005761523\" class=\"thumb_area\" onclick=\"nclk(this, \\'rnk.img\\', \\'\\', \\'\\');\">\\n\\t\\t<img src=\"https://mimgnews.pstatic.net/image/origin/018/2024/06/11/5761523.jpg?type=nf148_90_q90\" width=\"148\" height=\"90\" onerror=\"imageError(this, 1);\">\\n\\t\\t<span class=\"thumb_border\"></span>\\n\\t</a>\\n\\t<div class=\"tit_area\">\\n\\t\\t<a href=\"/ranking/read?oid=018&aid=0005761523\" class=\"tit\" onclick=\"nclk(this, \\'rnk.art\\', \\'\\', \\'\\');\">동시접속 45만명…‘최강야구’, 롯데 자이언츠 직관 티켓 완판</a>\\n\\t\\t<p class=\"summary\">\\n\\t\\t\\t\\t‘최강야구’와 ‘롯데 자이언츠’의 직관 티켓이 매진됐다. JTBC ‘최강야구’ 2024 시즌 세번째 직관 경기 티켓이 이변없이 전석 매진됐다. …\\n\\t\\t\\t\\t\\n\\t\\t</p>\\n\\t</div>\\n</li>\\n<li>\\n\\t<div class=\"rank_num\">\\n\\t\\t<span class=\"num no29\"><em class=\"blind\">29</em></span>\\n\\t</div>\\n\\t<a href=\"/ranking/read?oid=109&aid=0005095332\" class=\"thumb_area\" onclick=\"nclk(this, \\'rnk.img\\', \\'\\', \\'\\');\">\\n\\t\\t<img src=\"https://mimgnews.pstatic.net/image/origin/109/2024/06/11/5095332.jpg?type=nf148_90_q90\" width=\"148\" height=\"90\" onerror=\"imageError(this, 1);\">\\n\\t\\t<span class=\"thumb_border\"></span>\\n\\t</a>\\n\\t<div class=\"tit_area\">\\n\\t\\t<a href=\"/ranking/read?oid=109&aid=0005095332\" class=\"tit\" onclick=\"nclk(this, \\'rnk.art\\', \\'\\', \\'\\');\">과거 탈탈 털린 변우석..군복+촌스러운 화보도 입덕 포인트 [Oh!쎈 레터]</a>\\n\\t\\t<p class=\"summary\">\\n\\t\\t\\t\\t배우 변우석의 인기가 시들지 않고 있다. 풋풋한 과거 사진까지 탈탈 털렸는데 그마저도 팬들을 빠져들게 만드는 요소가 많다. 변우석 본인도 흑역사…\\n\\t\\t\\t\\t\\n\\t\\t</p>\\n\\t</div>\\n</li>\\n<li>\\n\\t<div class=\"rank_num\">\\n\\t\\t<span class=\"num no30\"><em class=\"blind\">30</em></span>\\n\\t</div>\\n\\t<a href=\"/ranking/read?oid=396&aid=0000679197\" class=\"thumb_area\" onclick=\"nclk(this, \\'rnk.img\\', \\'\\', \\'\\');\">\\n\\t\\t<img src=\"https://mimgnews.pstatic.net/image/origin/396/2024/06/11/679197.jpg?type=nf148_90_q90\" width=\"148\" height=\"90\" onerror=\"imageError(this, 1);\">\\n\\t\\t<span class=\"thumb_border\"></span>\\n\\t</a>\\n\\t<div class=\"tit_area\">\\n\\t\\t<a href=\"/ranking/read?oid=396&aid=0000679197\" class=\"tit\" onclick=\"nclk(this, \\'rnk.art\\', \\'\\', \\'\\');\">미자♥김태현, 융자 없는 한강뷰 집…“지상낙원” 공개</a>\\n\\t\\t<p class=\"summary\">\\n\\t\\t\\t\\t코미디언 미자, 김태현 부부의 한강뷰 아파트가 공개됐다. 10일 미자는 자신의 SNS를 통해 “오늘 사랑하는 어머님 오신다고 남편 씨랑 대청소 …\\n\\t\\t\\t\\t\\n\\t\\t</p>\\n\\t</div>\\n</li>\\n'"
      ]
     },
     "execution_count": 37,
     "metadata": {},
     "output_type": "execute_result"
    }
   ],
   "source": [
    "res.json()['newsListHtml']"
   ]
  },
  {
   "cell_type": "code",
   "execution_count": 38,
   "metadata": {},
   "outputs": [
    {
     "data": {
      "text/plain": [
       "'\\n\\n1\\n\\n\\n\\n\\n\\n\\n[종합]고준희 \"버닝썬 여배우 나 아니다…YG 방치에 홀로 변호사 선임\"(\\'아침먹고가\\')\\n\\n\\t\\t\\t\\t\\'아침먹고 가\\' 고준희가 버닝썬과의 관계를 명확하게 밝혔다. 1'"
      ]
     },
     "execution_count": 38,
     "metadata": {},
     "output_type": "execute_result"
    }
   ],
   "source": [
    "soup = bs4(res.json()['newsListHtml'])\n",
    "soup.text[:100]"
   ]
  },
  {
   "cell_type": "code",
   "execution_count": 40,
   "metadata": {},
   "outputs": [
    {
     "data": {
      "text/plain": [
       "[<a class=\"tit\" href=\"/ranking/read?oid=312&amp;aid=0000666089\" onclick=\"nclk(this, 'rnk.art', '', '');\">[종합]고준희 \"버닝썬 여배우 나 아니다…YG 방치에 홀로 변호사 선임\"('아침먹고가')</a>,\n",
       " <a class=\"tit\" href=\"/ranking/read?oid=109&amp;aid=0005095369\" onclick=\"nclk(this, 'rnk.art', '', '');\">'10월 결혼' 박위♥송지은, 드레스 투어 공개 \"완벽한데 덜 파인 걸로··\" ('위라클')</a>,\n",
       " <a class=\"tit\" href=\"/ranking/read?oid=311&amp;aid=0001735957\" onclick=\"nclk(this, 'rnk.art', '', '');\">'원조 바비' 한채영, 소유진·전지현과 3대 여신 \"대학 시절 친해\" (돌싱포맨)</a>,\n",
       " <a class=\"tit\" href=\"/ranking/read?oid=076&amp;aid=0004155302\" onclick=\"nclk(this, 'rnk.art', '', '');\">고현정, 민낯이 더 예쁜 여배우라니…세상 밖으로 나와 '찐웃음'</a>,\n",
       " <a class=\"tit\" href=\"/ranking/read?oid=109&amp;aid=0005095383\" onclick=\"nclk(this, 'rnk.art', '', '');\">[단독] 변우석 못가고·김혜윤 간다..'선업튀' 포상휴가 ♥솔선커플 불발(종합)</a>,\n",
       " <a class=\"tit\" href=\"/ranking/read?oid=213&amp;aid=0001297736\" onclick=\"nclk(this, 'rnk.art', '', '');\">이승현 \"이혼한 부모님, 손주 보려고 만나...일부러 같이 자게 해\"</a>,\n",
       " <a class=\"tit\" href=\"/ranking/read?oid=311&amp;aid=0001735857\" onclick=\"nclk(this, 'rnk.art', '', '');\">온라인 달군 '송혜교 공항 패션' 화제…'꾸안꾸'의 정석 [엑's 이슈]</a>,\n",
       " <a class=\"tit\" href=\"/ranking/read?oid=076&amp;aid=0004155394\" onclick=\"nclk(this, 'rnk.art', '', '');\">'빈지노♥' 미초바, 배만 나온 날씬 임산부의 '비키니 자태'..\"물로 중력과 싸우는 중\"</a>,\n",
       " <a class=\"tit\" href=\"/ranking/read?oid=312&amp;aid=0000666035\" onclick=\"nclk(this, 'rnk.art', '', '');\">동성애 아니랬는데…\"남자 3명의 삼각관계, 얽히고 설켜\" 윤찬영·봉재현의 애틋 관계성 '조폭고' [TEN인터뷰]</a>,\n",
       " <a class=\"tit\" href=\"/ranking/read?oid=109&amp;aid=0005095307\" onclick=\"nclk(this, 'rnk.art', '', '');\">“링 귀걸이 다시 유행하나요?”…송혜교, 따라하고싶은 사복 패션 [★SHOT!]</a>,\n",
       " <a class=\"tit\" href=\"/ranking/read?oid=109&amp;aid=0005095461\" onclick=\"nclk(this, 'rnk.art', '', '');\">최지우 작은 아버지=알고보니 유명 개그맨 이 사람? '폭소' 만발</a>,\n",
       " <a class=\"tit\" href=\"/ranking/read?oid=396&amp;aid=0000679237\" onclick=\"nclk(this, 'rnk.art', '', '');\">한예슬, 늘씬한 허리 라인…과감한 몸매 자랑</a>,\n",
       " <a class=\"tit\" href=\"/ranking/read?oid=415&amp;aid=0000029116\" onclick=\"nclk(this, 'rnk.art', '', '');\">♥윤남기가 계속 사줬는데… 이다은, 또 옷 사는 이유 \"임신해서 뚱뚱해보여\"</a>,\n",
       " <a class=\"tit\" href=\"/ranking/read?oid=076&amp;aid=0004155428\" onclick=\"nclk(this, 'rnk.art', '', '');\">'선업튀' 감독 \"김혜윤 미쳤다..2화X13화 동시 촬영, 15살 어려도 존경\"[SC이슈]</a>,\n",
       " <a class=\"tit\" href=\"/ranking/read?oid=312&amp;aid=0000666093\" onclick=\"nclk(this, 'rnk.art', '', '');\">김기리, 아내 문지인 사진만 가득 \"나조차도 내가 부러워\"…팔불출 면모</a>,\n",
       " <a class=\"tit\" href=\"/ranking/read?oid=468&amp;aid=0001067737\" onclick=\"nclk(this, 'rnk.art', '', '');\">손담비♥이규혁, 사랑하니까 닮아가네..미소가 닮은꼴 부부</a>,\n",
       " <a class=\"tit\" href=\"/ranking/read?oid=410&amp;aid=0001004527\" onclick=\"nclk(this, 'rnk.art', '', '');\">안유진, 흰색 롱 스커트 입고 화려한 변신!…“‘나도 춤 잘 추고 싶다’ 엄마 앞에서”</a>,\n",
       " <a class=\"tit\" href=\"/ranking/read?oid=396&amp;aid=0000679199\" onclick=\"nclk(this, 'rnk.art', '', '');\">소녀시대 윤아, 눈부신 미소 [스타★샷]</a>,\n",
       " <a class=\"tit\" href=\"/ranking/read?oid=609&amp;aid=0000863519\" onclick=\"nclk(this, 'rnk.art', '', '');\">최양락, 알고보니 성형 중독자? 쌍꺼풀에 리프팅까지 “32바늘 꿰매” (살롱드립2)</a>,\n",
       " <a class=\"tit\" href=\"/ranking/read?oid=382&amp;aid=0001131254\" onclick=\"nclk(this, 'rnk.art', '', '');\">고준희 눈물 “버닝썬 루머→커리어 박살…母 이석증 와” (아침먹고가)[종합]</a>,\n",
       " <a class=\"tit\" href=\"/ranking/read?oid=108&amp;aid=0003242053\" onclick=\"nclk(this, 'rnk.art', '', '');\">김히어라, 학폭 종결 후 美 진출 앞둔 심경? \"용기 생기는..\"[스타이슈]</a>,\n",
       " <a class=\"tit\" href=\"/ranking/read?oid=241&amp;aid=0003356620\" onclick=\"nclk(this, 'rnk.art', '', '');\">“자신감 업” 장영란, 눈 성형 6번+다이어트로 확 달라진 분위기</a>,\n",
       " <a class=\"tit\" href=\"/ranking/read?oid=003&amp;aid=0012599658\" onclick=\"nclk(this, 'rnk.art', '', '');\">신수지, 필리핀 세부서 파격 비키니…아찔한 뒤태</a>,\n",
       " <a class=\"tit\" href=\"/ranking/read?oid=108&amp;aid=0003242087\" onclick=\"nclk(this, 'rnk.art', '', '');\">[단독]강형욱 없고 이경규·박세리만..'개훌륭' 5주 만에 방송 재개 [종합]</a>,\n",
       " <a class=\"tit\" href=\"/ranking/read?oid=468&amp;aid=0001067933\" onclick=\"nclk(this, 'rnk.art', '', '');\">변우석, 빌보드 또 뚫었다! 글로벌 200 차트 167위 등극, 2주 연속 진입 32계단 껑충</a>,\n",
       " <a class=\"tit\" href=\"/ranking/read?oid=396&amp;aid=0000679245\" onclick=\"nclk(this, 'rnk.art', '', '');\">“엄마가 찍어줘”…안유진, 사랑스러운 ‘댕댕이 모먼트’</a>,\n",
       " <a class=\"tit\" href=\"/ranking/read?oid=311&amp;aid=0001736029\" onclick=\"nclk(this, 'rnk.art', '', '');\">'나경은♥' 유재석 \"딸 나은 결혼? 생각만해도 서운해\"(틈만나면)[종합]</a>,\n",
       " <a class=\"tit\" href=\"/ranking/read?oid=018&amp;aid=0005761523\" onclick=\"nclk(this, 'rnk.art', '', '');\">동시접속 45만명…‘최강야구’, 롯데 자이언츠 직관 티켓 완판</a>,\n",
       " <a class=\"tit\" href=\"/ranking/read?oid=109&amp;aid=0005095332\" onclick=\"nclk(this, 'rnk.art', '', '');\">과거 탈탈 털린 변우석..군복+촌스러운 화보도 입덕 포인트 [Oh!쎈 레터]</a>,\n",
       " <a class=\"tit\" href=\"/ranking/read?oid=396&amp;aid=0000679197\" onclick=\"nclk(this, 'rnk.art', '', '');\">미자♥김태현, 융자 없는 한강뷰 집…“지상낙원” 공개</a>]"
      ]
     },
     "execution_count": 40,
     "metadata": {},
     "output_type": "execute_result"
    }
   ],
   "source": [
    "soup.select('.tit')"
   ]
  },
  {
   "cell_type": "code",
   "execution_count": 41,
   "metadata": {},
   "outputs": [
    {
     "data": {
      "text/plain": [
       "30"
      ]
     },
     "execution_count": 41,
     "metadata": {},
     "output_type": "execute_result"
    }
   ],
   "source": [
    "len(soup.select('.tit'))"
   ]
  },
  {
   "cell_type": "code",
   "execution_count": null,
   "metadata": {},
   "outputs": [],
   "source": []
  }
 ],
 "metadata": {
  "kernelspec": {
   "display_name": "ai",
   "language": "python",
   "name": "python3"
  },
  "language_info": {
   "codemirror_mode": {
    "name": "ipython",
    "version": 3
   },
   "file_extension": ".py",
   "mimetype": "text/x-python",
   "name": "python",
   "nbconvert_exporter": "python",
   "pygments_lexer": "ipython3",
   "version": "3.12.3"
  }
 },
 "nbformat": 4,
 "nbformat_minor": 2
}
