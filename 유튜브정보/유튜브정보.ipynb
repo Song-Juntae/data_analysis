{
 "cells": [
  {
   "cell_type": "code",
   "execution_count": 1,
   "metadata": {},
   "outputs": [],
   "source": [
    "import os\n",
    "\n",
    "from collections import Counter\n",
    "\n",
    "import json\n",
    "import requests\n",
    "from bs4 import BeautifulSoup as bs4\n",
    "\n",
    "import numpy as np\n",
    "import pandas as pd\n",
    "import matplotlib.pyplot as plt\n",
    "import matplotlib.font_manager as fm\n",
    "\n",
    "font_path = '/usr/share/fonts/truetype/nanum/NanumGothic.ttf'\n",
    "fm.fontManager.addfont(font_path)\n",
    "font_name = fm.FontProperties(fname=font_path).get_name()\n",
    "plt.rcParams['font.family'] = font_name\n",
    "plt.rcParams['axes.unicode_minus'] = False\n",
    "\n",
    "import seaborn as sns\n"
   ]
  },
  {
   "cell_type": "code",
   "execution_count": 2,
   "metadata": {},
   "outputs": [
    {
     "data": {
      "text/plain": [
       "<Response [200]>"
      ]
     },
     "execution_count": 2,
     "metadata": {},
     "output_type": "execute_result"
    }
   ],
   "source": [
    "link = 'https://www.youtube.com/@Ssook_Ssook/videos'\n",
    "\n",
    "headers = {\"user-agent\": \"Mozilla/5.0\"}\n",
    "res = requests.get(link, headers=headers)\n",
    "res"
   ]
  },
  {
   "cell_type": "code",
   "execution_count": 3,
   "metadata": {},
   "outputs": [
    {
     "data": {
      "text/plain": [
       "474698"
      ]
     },
     "execution_count": 3,
     "metadata": {},
     "output_type": "execute_result"
    }
   ],
   "source": [
    "시작시점 = res.text.find('var ytInitialData = ') + len('var ytInitialData = ')\n",
    "시작시점"
   ]
  },
  {
   "cell_type": "code",
   "execution_count": 4,
   "metadata": {},
   "outputs": [
    {
     "data": {
      "text/plain": [
       "583619"
      ]
     },
     "execution_count": 4,
     "metadata": {},
     "output_type": "execute_result"
    }
   ],
   "source": [
    "끝시점 = 시작시점 + res.text[시작시점:].find(';</script>')\n",
    "끝시점"
   ]
  },
  {
   "cell_type": "code",
   "execution_count": 5,
   "metadata": {},
   "outputs": [],
   "source": [
    "js_data = json.loads(res.text[시작시점:끝시점])"
   ]
  },
  {
   "cell_type": "code",
   "execution_count": 6,
   "metadata": {},
   "outputs": [
    {
     "data": {
      "text/plain": [
       "{'videoId': 'aD-9vK498Fg',\n",
       " 'thumbnail': {'thumbnails': [{'url': 'https://i.ytimg.com/vi/aD-9vK498Fg/hqdefault.jpg?sqp=-oaymwEiCKgBEF5IWvKriqkDFQgBFQAAAAAYASUAAMhCPQCAokN4AQ==&rs=AOn4CLAWfGkUQ1ZTOIirO7trUY7n31AH7g',\n",
       "    'width': 168,\n",
       "    'height': 94},\n",
       "   {'url': 'https://i.ytimg.com/vi/aD-9vK498Fg/hqdefault.jpg?sqp=-oaymwEiCMQBEG5IWvKriqkDFQgBFQAAAAAYASUAAMhCPQCAokN4AQ==&rs=AOn4CLAhaeVj70gw5UMUEuzn8uiEp1w9Gw',\n",
       "    'width': 196,\n",
       "    'height': 110},\n",
       "   {'url': 'https://i.ytimg.com/vi/aD-9vK498Fg/hqdefault.jpg?sqp=-oaymwEjCPYBEIoBSFryq4qpAxUIARUAAAAAGAElAADIQj0AgKJDeAE=&rs=AOn4CLD07MOi1T4_sPS8pE2b2Z9z8ZdgzA',\n",
       "    'width': 246,\n",
       "    'height': 138},\n",
       "   {'url': 'https://i.ytimg.com/vi/aD-9vK498Fg/hqdefault.jpg?sqp=-oaymwEjCNACELwBSFryq4qpAxUIARUAAAAAGAElAADIQj0AgKJDeAE=&rs=AOn4CLBbBvccC4T6j-C2_BonRXuO70moIw',\n",
       "    'width': 336,\n",
       "    'height': 188}]},\n",
       " 'title': {'runs': [{'text': '[EN/ID] 10차 회의중 (with 유희열) │ 속삭이는 토크🗣, 신인발라더🎤, 👂다~ 들어주는 그땐 그랬지, 해외 간 김에 뭐 할까?'}],\n",
       "  'accessibility': {'accessibilityData': {'label': '[EN/ID] 10차 회의중 (with 유희열) │ 속삭이는 토크🗣, 신인발라더🎤, 👂다~ 들어주는 그땐 그랬지, 해외 간 김에 뭐 할까? 게시자: 쑥쑥 SsookSsook 조회수 66,205회 3일 전 13분 16초'}}},\n",
       " 'descriptionSnippet': {'runs': [{'text': '쑥쑥 채널 현황 공유 및 컨펌 및 지원 등 실무 협의차 대표님이랑 회의하는데 대표님에게 칭찬받는 걱정인형쌥쌥... 좋은 숙려템들이 나오다가...'}]},\n",
       " 'publishedTimeText': {'simpleText': '3일 전'},\n",
       " 'lengthText': {'accessibility': {'accessibilityData': {'label': '13분 16초'}},\n",
       "  'simpleText': '13:16'},\n",
       " 'viewCountText': {'simpleText': '조회수 66,205회'},\n",
       " 'navigationEndpoint': {'clickTrackingParams': 'CGIQ3DAiEwju8evqn_mGAxVMSvUFHRyiBD1aGFVDM2VnVjhBeVZybndVRU9rR1pCLXMyUZoBAxDyOA==',\n",
       "  'commandMetadata': {'webCommandMetadata': {'url': '/watch?v=aD-9vK498Fg',\n",
       "    'webPageType': 'WEB_PAGE_TYPE_WATCH',\n",
       "    'rootVe': 3832}},\n",
       "  'watchEndpoint': {'videoId': 'aD-9vK498Fg',\n",
       "   'watchEndpointSupportedOnesieConfig': {'html5PlaybackOnesieConfig': {'commonConfig': {'url': 'https://rr8---sn-3u-20nk.googlevideo.com/initplayback?source=youtube&oeis=1&c=WEB&oad=3200&ovd=3200&oaad=11000&oavd=11000&ocs=700&oewis=1&oputc=1&ofpcc=1&msp=1&odepv=1&id=683fbdbcae3df058&ip=119.199.137.127&initcwndbps=1045000&mt=1719403745&oweuc='}}}}},\n",
       " 'trackingParams': 'CGIQ3DAiEwju8evqn_mGAxVMSvUFHRyiBD1A2OD38cq3759o',\n",
       " 'showActionMenu': False,\n",
       " 'shortViewCountText': {'accessibility': {'accessibilityData': {'label': '조회수 6.6만회'}},\n",
       "  'simpleText': '조회수 6.6만회'},\n",
       " 'menu': {'menuRenderer': {'items': [{'menuServiceItemRenderer': {'text': {'runs': [{'text': '현재 재생목록에 추가'}]},\n",
       "      'icon': {'iconType': 'ADD_TO_QUEUE_TAIL'},\n",
       "      'serviceEndpoint': {'clickTrackingParams': 'CGYQ_pgEGAUiEwju8evqn_mGAxVMSvUFHRyiBD0=',\n",
       "       'commandMetadata': {'webCommandMetadata': {'sendPost': True}},\n",
       "       'signalServiceEndpoint': {'signal': 'CLIENT_SIGNAL',\n",
       "        'actions': [{'clickTrackingParams': 'CGYQ_pgEGAUiEwju8evqn_mGAxVMSvUFHRyiBD0=',\n",
       "          'addToPlaylistCommand': {'openMiniplayer': True,\n",
       "           'videoId': 'aD-9vK498Fg',\n",
       "           'listType': 'PLAYLIST_EDIT_LIST_TYPE_QUEUE',\n",
       "           'onCreateListCommand': {'clickTrackingParams': 'CGYQ_pgEGAUiEwju8evqn_mGAxVMSvUFHRyiBD0=',\n",
       "            'commandMetadata': {'webCommandMetadata': {'sendPost': True,\n",
       "              'apiUrl': '/youtubei/v1/playlist/create'}},\n",
       "            'createPlaylistServiceEndpoint': {'videoIds': ['aD-9vK498Fg'],\n",
       "             'params': 'CAQ%3D'}},\n",
       "           'videoIds': ['aD-9vK498Fg']}}]}},\n",
       "      'trackingParams': 'CGYQ_pgEGAUiEwju8evqn_mGAxVMSvUFHRyiBD0='}},\n",
       "    {'menuServiceItemRenderer': {'text': {'runs': [{'text': '공유'}]},\n",
       "      'icon': {'iconType': 'SHARE'},\n",
       "      'serviceEndpoint': {'clickTrackingParams': 'CGIQ3DAiEwju8evqn_mGAxVMSvUFHRyiBD0=',\n",
       "       'commandMetadata': {'webCommandMetadata': {'sendPost': True,\n",
       "         'apiUrl': '/youtubei/v1/share/get_share_panel'}},\n",
       "       'shareEntityServiceEndpoint': {'serializedShareEntity': 'CgthRC05dks0OThGZw%3D%3D',\n",
       "        'commands': [{'clickTrackingParams': 'CGIQ3DAiEwju8evqn_mGAxVMSvUFHRyiBD0=',\n",
       "          'openPopupAction': {'popup': {'unifiedSharePanelRenderer': {'trackingParams': 'CGUQjmIiEwju8evqn_mGAxVMSvUFHRyiBD0=',\n",
       "             'showLoadingSpinner': True}},\n",
       "           'popupType': 'DIALOG',\n",
       "           'beReused': True}}]}},\n",
       "      'trackingParams': 'CGIQ3DAiEwju8evqn_mGAxVMSvUFHRyiBD0='}}],\n",
       "   'trackingParams': 'CGIQ3DAiEwju8evqn_mGAxVMSvUFHRyiBD0=',\n",
       "   'accessibility': {'accessibilityData': {'label': '작업 메뉴'}}}},\n",
       " 'thumbnailOverlays': [{'thumbnailOverlayTimeStatusRenderer': {'text': {'accessibility': {'accessibilityData': {'label': '13분 16초'}},\n",
       "     'simpleText': '13:16'},\n",
       "    'style': 'DEFAULT'}},\n",
       "  {'thumbnailOverlayToggleButtonRenderer': {'isToggled': False,\n",
       "    'untoggledIcon': {'iconType': 'WATCH_LATER'},\n",
       "    'toggledIcon': {'iconType': 'CHECK'},\n",
       "    'untoggledTooltip': '나중에 볼 동영상',\n",
       "    'toggledTooltip': '추가됨',\n",
       "    'untoggledServiceEndpoint': {'clickTrackingParams': 'CGQQ-ecDGAEiEwju8evqn_mGAxVMSvUFHRyiBD0=',\n",
       "     'commandMetadata': {'webCommandMetadata': {'sendPost': True,\n",
       "       'apiUrl': '/youtubei/v1/browse/edit_playlist'}},\n",
       "     'playlistEditEndpoint': {'playlistId': 'WL',\n",
       "      'actions': [{'addedVideoId': 'aD-9vK498Fg',\n",
       "        'action': 'ACTION_ADD_VIDEO'}]}},\n",
       "    'toggledServiceEndpoint': {'clickTrackingParams': 'CGQQ-ecDGAEiEwju8evqn_mGAxVMSvUFHRyiBD0=',\n",
       "     'commandMetadata': {'webCommandMetadata': {'sendPost': True,\n",
       "       'apiUrl': '/youtubei/v1/browse/edit_playlist'}},\n",
       "     'playlistEditEndpoint': {'playlistId': 'WL',\n",
       "      'actions': [{'action': 'ACTION_REMOVE_VIDEO_BY_VIDEO_ID',\n",
       "        'removedVideoId': 'aD-9vK498Fg'}]}},\n",
       "    'untoggledAccessibility': {'accessibilityData': {'label': '나중에 볼 동영상'}},\n",
       "    'toggledAccessibility': {'accessibilityData': {'label': '추가됨'}},\n",
       "    'trackingParams': 'CGQQ-ecDGAEiEwju8evqn_mGAxVMSvUFHRyiBD0='}},\n",
       "  {'thumbnailOverlayToggleButtonRenderer': {'untoggledIcon': {'iconType': 'ADD_TO_QUEUE_TAIL'},\n",
       "    'toggledIcon': {'iconType': 'PLAYLIST_ADD_CHECK'},\n",
       "    'untoggledTooltip': '현재 재생목록에 추가',\n",
       "    'toggledTooltip': '추가됨',\n",
       "    'untoggledServiceEndpoint': {'clickTrackingParams': 'CGMQx-wEGAIiEwju8evqn_mGAxVMSvUFHRyiBD0=',\n",
       "     'commandMetadata': {'webCommandMetadata': {'sendPost': True}},\n",
       "     'signalServiceEndpoint': {'signal': 'CLIENT_SIGNAL',\n",
       "      'actions': [{'clickTrackingParams': 'CGMQx-wEGAIiEwju8evqn_mGAxVMSvUFHRyiBD0=',\n",
       "        'addToPlaylistCommand': {'openMiniplayer': True,\n",
       "         'videoId': 'aD-9vK498Fg',\n",
       "         'listType': 'PLAYLIST_EDIT_LIST_TYPE_QUEUE',\n",
       "         'onCreateListCommand': {'clickTrackingParams': 'CGMQx-wEGAIiEwju8evqn_mGAxVMSvUFHRyiBD0=',\n",
       "          'commandMetadata': {'webCommandMetadata': {'sendPost': True,\n",
       "            'apiUrl': '/youtubei/v1/playlist/create'}},\n",
       "          'createPlaylistServiceEndpoint': {'videoIds': ['aD-9vK498Fg'],\n",
       "           'params': 'CAQ%3D'}},\n",
       "         'videoIds': ['aD-9vK498Fg']}}]}},\n",
       "    'untoggledAccessibility': {'accessibilityData': {'label': '현재 재생목록에 추가'}},\n",
       "    'toggledAccessibility': {'accessibilityData': {'label': '추가됨'}},\n",
       "    'trackingParams': 'CGMQx-wEGAIiEwju8evqn_mGAxVMSvUFHRyiBD0='}},\n",
       "  {'thumbnailOverlayNowPlayingRenderer': {'text': {'runs': [{'text': '지금 재생 중'}]}}}]}"
      ]
     },
     "execution_count": 6,
     "metadata": {},
     "output_type": "execute_result"
    }
   ],
   "source": [
    "js_data['contents']['twoColumnBrowseResultsRenderer']['tabs'][1]['tabRenderer']['content']['richGridRenderer']['contents'][0]['richItemRenderer']['content']['videoRenderer']"
   ]
  },
  {
   "cell_type": "code",
   "execution_count": 8,
   "metadata": {},
   "outputs": [
    {
     "data": {
      "text/plain": [
       "{'videoId': 'tfM7j8ujnas',\n",
       " 'thumbnail': {'thumbnails': [{'url': 'https://i.ytimg.com/vi/tfM7j8ujnas/hqdefault.jpg?sqp=-oaymwEiCKgBEF5IWvKriqkDFQgBFQAAAAAYASUAAMhCPQCAokN4AQ==&rs=AOn4CLAE2MVacW1KNa_dvFinSlWoHJ9UTA',\n",
       "    'width': 168,\n",
       "    'height': 94},\n",
       "   {'url': 'https://i.ytimg.com/vi/tfM7j8ujnas/hqdefault.jpg?sqp=-oaymwEiCMQBEG5IWvKriqkDFQgBFQAAAAAYASUAAMhCPQCAokN4AQ==&rs=AOn4CLCO8KFiBHlTLt-qUW_1HwyPiA8E2w',\n",
       "    'width': 196,\n",
       "    'height': 110},\n",
       "   {'url': 'https://i.ytimg.com/vi/tfM7j8ujnas/hqdefault.jpg?sqp=-oaymwEjCPYBEIoBSFryq4qpAxUIARUAAAAAGAElAADIQj0AgKJDeAE=&rs=AOn4CLAusOSgsnKiy-VTK7gqZ20uOOPVaA',\n",
       "    'width': 246,\n",
       "    'height': 138},\n",
       "   {'url': 'https://i.ytimg.com/vi/tfM7j8ujnas/hqdefault.jpg?sqp=-oaymwEjCNACELwBSFryq4qpAxUIARUAAAAAGAElAADIQj0AgKJDeAE=&rs=AOn4CLDkBr2jgiWTsObhSX6lVLsrZRrrNQ',\n",
       "    'width': 336,\n",
       "    'height': 188}]},\n",
       " 'title': {'runs': [{'text': '[EN/ID] 9-2차 회의중 │ 예능게임회의 절망편 : 글자수를 늘려~★, 글로벌 케요네즈 게임, 다녹은 탕후루게임🍡, 반성타임'}],\n",
       "  'accessibility': {'accessibilityData': {'label': '[EN/ID] 9-2차 회의중 │ 예능게임회의 절망편 : 글자수를 늘려~★, 글로벌 케요네즈 게임, 다녹은 탕후루게임🍡, 반성타임 게시자: 쑥쑥 SsookSsook 조회수 43,752회 6일 전 14분 34초'}}},\n",
       " 'descriptionSnippet': {'runs': [{'text': '어디선가 해본듯한 게임에 새로움 한스푼 넣어가며 어떻게든 게임을 살려보겠다고...걱정인형쌥쌥과 조원들 심폐소생을 시도하지만...그저..따뜻한....'}]},\n",
       " 'publishedTimeText': {'simpleText': '6일 전'},\n",
       " 'lengthText': {'accessibility': {'accessibilityData': {'label': '14분 34초'}},\n",
       "  'simpleText': '14:34'},\n",
       " 'viewCountText': {'simpleText': '조회수 43,752회'},\n",
       " 'navigationEndpoint': {'clickTrackingParams': 'CFwQ3DAiEwju8evqn_mGAxVMSvUFHRyiBD1aGFVDM2VnVjhBeVZybndVRU9rR1pCLXMyUZoBAxDyOA==',\n",
       "  'commandMetadata': {'webCommandMetadata': {'url': '/watch?v=tfM7j8ujnas',\n",
       "    'webPageType': 'WEB_PAGE_TYPE_WATCH',\n",
       "    'rootVe': 3832}},\n",
       "  'watchEndpoint': {'videoId': 'tfM7j8ujnas',\n",
       "   'watchEndpointSupportedOnesieConfig': {'html5PlaybackOnesieConfig': {'commonConfig': {'url': 'https://rr2---sn-3u-20nel.googlevideo.com/initplayback?source=youtube&oeis=1&c=WEB&oad=3200&ovd=3200&oaad=11000&oavd=11000&ocs=700&oewis=1&oputc=1&ofpcc=1&msp=1&odepv=1&id=b5f33b8fcba39dab&ip=119.199.137.127&initcwndbps=982500&mt=1719403745&oweuc='}}}}},\n",
       " 'trackingParams': 'CFwQ3DAiEwju8evqn_mGAxVMSvUFHRyiBD1Aq7uO3fzxzvm1AQ==',\n",
       " 'showActionMenu': False,\n",
       " 'shortViewCountText': {'accessibility': {'accessibilityData': {'label': '조회수 4.3만회'}},\n",
       "  'simpleText': '조회수 4.3만회'},\n",
       " 'menu': {'menuRenderer': {'items': [{'menuServiceItemRenderer': {'text': {'runs': [{'text': '현재 재생목록에 추가'}]},\n",
       "      'icon': {'iconType': 'ADD_TO_QUEUE_TAIL'},\n",
       "      'serviceEndpoint': {'clickTrackingParams': 'CGAQ_pgEGAUiEwju8evqn_mGAxVMSvUFHRyiBD0=',\n",
       "       'commandMetadata': {'webCommandMetadata': {'sendPost': True}},\n",
       "       'signalServiceEndpoint': {'signal': 'CLIENT_SIGNAL',\n",
       "        'actions': [{'clickTrackingParams': 'CGAQ_pgEGAUiEwju8evqn_mGAxVMSvUFHRyiBD0=',\n",
       "          'addToPlaylistCommand': {'openMiniplayer': True,\n",
       "           'videoId': 'tfM7j8ujnas',\n",
       "           'listType': 'PLAYLIST_EDIT_LIST_TYPE_QUEUE',\n",
       "           'onCreateListCommand': {'clickTrackingParams': 'CGAQ_pgEGAUiEwju8evqn_mGAxVMSvUFHRyiBD0=',\n",
       "            'commandMetadata': {'webCommandMetadata': {'sendPost': True,\n",
       "              'apiUrl': '/youtubei/v1/playlist/create'}},\n",
       "            'createPlaylistServiceEndpoint': {'videoIds': ['tfM7j8ujnas'],\n",
       "             'params': 'CAQ%3D'}},\n",
       "           'videoIds': ['tfM7j8ujnas']}}]}},\n",
       "      'trackingParams': 'CGAQ_pgEGAUiEwju8evqn_mGAxVMSvUFHRyiBD0='}},\n",
       "    {'menuServiceItemRenderer': {'text': {'runs': [{'text': '공유'}]},\n",
       "      'icon': {'iconType': 'SHARE'},\n",
       "      'serviceEndpoint': {'clickTrackingParams': 'CFwQ3DAiEwju8evqn_mGAxVMSvUFHRyiBD0=',\n",
       "       'commandMetadata': {'webCommandMetadata': {'sendPost': True,\n",
       "         'apiUrl': '/youtubei/v1/share/get_share_panel'}},\n",
       "       'shareEntityServiceEndpoint': {'serializedShareEntity': 'Cgt0Zk03ajh1am5hcw%3D%3D',\n",
       "        'commands': [{'clickTrackingParams': 'CFwQ3DAiEwju8evqn_mGAxVMSvUFHRyiBD0=',\n",
       "          'openPopupAction': {'popup': {'unifiedSharePanelRenderer': {'trackingParams': 'CF8QjmIiEwju8evqn_mGAxVMSvUFHRyiBD0=',\n",
       "             'showLoadingSpinner': True}},\n",
       "           'popupType': 'DIALOG',\n",
       "           'beReused': True}}]}},\n",
       "      'trackingParams': 'CFwQ3DAiEwju8evqn_mGAxVMSvUFHRyiBD0='}}],\n",
       "   'trackingParams': 'CFwQ3DAiEwju8evqn_mGAxVMSvUFHRyiBD0=',\n",
       "   'accessibility': {'accessibilityData': {'label': '작업 메뉴'}}}},\n",
       " 'thumbnailOverlays': [{'thumbnailOverlayTimeStatusRenderer': {'text': {'accessibility': {'accessibilityData': {'label': '14분 34초'}},\n",
       "     'simpleText': '14:34'},\n",
       "    'style': 'DEFAULT'}},\n",
       "  {'thumbnailOverlayToggleButtonRenderer': {'isToggled': False,\n",
       "    'untoggledIcon': {'iconType': 'WATCH_LATER'},\n",
       "    'toggledIcon': {'iconType': 'CHECK'},\n",
       "    'untoggledTooltip': '나중에 볼 동영상',\n",
       "    'toggledTooltip': '추가됨',\n",
       "    'untoggledServiceEndpoint': {'clickTrackingParams': 'CF4Q-ecDGAEiEwju8evqn_mGAxVMSvUFHRyiBD0=',\n",
       "     'commandMetadata': {'webCommandMetadata': {'sendPost': True,\n",
       "       'apiUrl': '/youtubei/v1/browse/edit_playlist'}},\n",
       "     'playlistEditEndpoint': {'playlistId': 'WL',\n",
       "      'actions': [{'addedVideoId': 'tfM7j8ujnas',\n",
       "        'action': 'ACTION_ADD_VIDEO'}]}},\n",
       "    'toggledServiceEndpoint': {'clickTrackingParams': 'CF4Q-ecDGAEiEwju8evqn_mGAxVMSvUFHRyiBD0=',\n",
       "     'commandMetadata': {'webCommandMetadata': {'sendPost': True,\n",
       "       'apiUrl': '/youtubei/v1/browse/edit_playlist'}},\n",
       "     'playlistEditEndpoint': {'playlistId': 'WL',\n",
       "      'actions': [{'action': 'ACTION_REMOVE_VIDEO_BY_VIDEO_ID',\n",
       "        'removedVideoId': 'tfM7j8ujnas'}]}},\n",
       "    'untoggledAccessibility': {'accessibilityData': {'label': '나중에 볼 동영상'}},\n",
       "    'toggledAccessibility': {'accessibilityData': {'label': '추가됨'}},\n",
       "    'trackingParams': 'CF4Q-ecDGAEiEwju8evqn_mGAxVMSvUFHRyiBD0='}},\n",
       "  {'thumbnailOverlayToggleButtonRenderer': {'untoggledIcon': {'iconType': 'ADD_TO_QUEUE_TAIL'},\n",
       "    'toggledIcon': {'iconType': 'PLAYLIST_ADD_CHECK'},\n",
       "    'untoggledTooltip': '현재 재생목록에 추가',\n",
       "    'toggledTooltip': '추가됨',\n",
       "    'untoggledServiceEndpoint': {'clickTrackingParams': 'CF0Qx-wEGAIiEwju8evqn_mGAxVMSvUFHRyiBD0=',\n",
       "     'commandMetadata': {'webCommandMetadata': {'sendPost': True}},\n",
       "     'signalServiceEndpoint': {'signal': 'CLIENT_SIGNAL',\n",
       "      'actions': [{'clickTrackingParams': 'CF0Qx-wEGAIiEwju8evqn_mGAxVMSvUFHRyiBD0=',\n",
       "        'addToPlaylistCommand': {'openMiniplayer': True,\n",
       "         'videoId': 'tfM7j8ujnas',\n",
       "         'listType': 'PLAYLIST_EDIT_LIST_TYPE_QUEUE',\n",
       "         'onCreateListCommand': {'clickTrackingParams': 'CF0Qx-wEGAIiEwju8evqn_mGAxVMSvUFHRyiBD0=',\n",
       "          'commandMetadata': {'webCommandMetadata': {'sendPost': True,\n",
       "            'apiUrl': '/youtubei/v1/playlist/create'}},\n",
       "          'createPlaylistServiceEndpoint': {'videoIds': ['tfM7j8ujnas'],\n",
       "           'params': 'CAQ%3D'}},\n",
       "         'videoIds': ['tfM7j8ujnas']}}]}},\n",
       "    'untoggledAccessibility': {'accessibilityData': {'label': '현재 재생목록에 추가'}},\n",
       "    'toggledAccessibility': {'accessibilityData': {'label': '추가됨'}},\n",
       "    'trackingParams': 'CF0Qx-wEGAIiEwju8evqn_mGAxVMSvUFHRyiBD0='}},\n",
       "  {'thumbnailOverlayNowPlayingRenderer': {'text': {'runs': [{'text': '지금 재생 중'}]}}}]}"
      ]
     },
     "execution_count": 8,
     "metadata": {},
     "output_type": "execute_result"
    }
   ],
   "source": [
    "js_data['contents']['twoColumnBrowseResultsRenderer']['tabs'][1]['tabRenderer']['content']['richGridRenderer']['contents'][1]['richItemRenderer']['content']['videoRenderer']"
   ]
  },
  {
   "cell_type": "code",
   "execution_count": 9,
   "metadata": {},
   "outputs": [
    {
     "data": {
      "text/plain": [
       "['videoId',\n",
       " 'thumbnail',\n",
       " 'title',\n",
       " 'descriptionSnippet',\n",
       " 'publishedTimeText',\n",
       " 'lengthText',\n",
       " 'viewCountText',\n",
       " 'navigationEndpoint',\n",
       " 'trackingParams',\n",
       " 'showActionMenu',\n",
       " 'shortViewCountText',\n",
       " 'menu',\n",
       " 'thumbnailOverlays']"
      ]
     },
     "execution_count": 9,
     "metadata": {},
     "output_type": "execute_result"
    }
   ],
   "source": [
    "[i for i in js_data['contents']['twoColumnBrowseResultsRenderer']['tabs'][1]['tabRenderer']['content']['richGridRenderer']['contents'][1]['richItemRenderer']['content']['videoRenderer']]"
   ]
  },
  {
   "cell_type": "code",
   "execution_count": 16,
   "metadata": {},
   "outputs": [
    {
     "data": {
      "text/plain": [
       "['accessibilityData']"
      ]
     },
     "execution_count": 16,
     "metadata": {},
     "output_type": "execute_result"
    }
   ],
   "source": [
    "[i for i in js_data['contents']['twoColumnBrowseResultsRenderer']['tabs'][1]['tabRenderer']['content']['richGridRenderer']['contents'][1]['richItemRenderer']['content']['videoRenderer']['title']['accessibility']]"
   ]
  },
  {
   "cell_type": "code",
   "execution_count": 14,
   "metadata": {},
   "outputs": [
    {
     "data": {
      "text/plain": [
       "['contents', 'trackingParams', 'header', 'targetId', 'style']"
      ]
     },
     "execution_count": 14,
     "metadata": {},
     "output_type": "execute_result"
    }
   ],
   "source": [
    "[i for i in js_data['contents']['twoColumnBrowseResultsRenderer']['tabs'][1]['tabRenderer']['content']['richGridRenderer']]"
   ]
  },
  {
   "cell_type": "code",
   "execution_count": null,
   "metadata": {},
   "outputs": [],
   "source": []
  }
 ],
 "metadata": {
  "kernelspec": {
   "display_name": "data",
   "language": "python",
   "name": "python3"
  },
  "language_info": {
   "codemirror_mode": {
    "name": "ipython",
    "version": 3
   },
   "file_extension": ".py",
   "mimetype": "text/x-python",
   "name": "python",
   "nbconvert_exporter": "python",
   "pygments_lexer": "ipython3",
   "version": "3.1.-1"
  }
 },
 "nbformat": 4,
 "nbformat_minor": 2
}
